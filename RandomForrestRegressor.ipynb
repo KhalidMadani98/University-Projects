{
  "nbformat": 4,
  "nbformat_minor": 0,
  "metadata": {
    "colab": {
      "provenance": []
    },
    "kernelspec": {
      "name": "python3",
      "display_name": "Python 3"
    },
    "language_info": {
      "name": "python"
    }
  },
  "cells": [
    {
      "cell_type": "code",
      "execution_count": null,
      "metadata": {
        "colab": {
          "base_uri": "https://localhost:8080/"
        },
        "id": "hPf9kU8Qj_I_",
        "outputId": "a9ba2cfa-983a-4f24-ff34-f6fbbf0a4caa"
      },
      "outputs": [
        {
          "output_type": "stream",
          "name": "stderr",
          "text": [
            "<ipython-input-1-c22b2cac3584>:76: FutureWarning: The frame.append method is deprecated and will be removed from pandas in a future version. Use pandas.concat instead.\n",
            "  all_results = all_results.append(results, ignore_index=True)\n",
            "<ipython-input-1-c22b2cac3584>:76: FutureWarning: The frame.append method is deprecated and will be removed from pandas in a future version. Use pandas.concat instead.\n",
            "  all_results = all_results.append(results, ignore_index=True)\n",
            "<ipython-input-1-c22b2cac3584>:76: FutureWarning: The frame.append method is deprecated and will be removed from pandas in a future version. Use pandas.concat instead.\n",
            "  all_results = all_results.append(results, ignore_index=True)\n",
            "<ipython-input-1-c22b2cac3584>:76: FutureWarning: The frame.append method is deprecated and will be removed from pandas in a future version. Use pandas.concat instead.\n",
            "  all_results = all_results.append(results, ignore_index=True)\n",
            "<ipython-input-1-c22b2cac3584>:76: FutureWarning: The frame.append method is deprecated and will be removed from pandas in a future version. Use pandas.concat instead.\n",
            "  all_results = all_results.append(results, ignore_index=True)\n"
          ]
        },
        {
          "output_type": "stream",
          "name": "stdout",
          "text": [
            "Results for all metrics have been saved to /content/all_metrics_random_forest_results.csv\n"
          ]
        },
        {
          "output_type": "stream",
          "name": "stderr",
          "text": [
            "<ipython-input-1-c22b2cac3584>:76: FutureWarning: The frame.append method is deprecated and will be removed from pandas in a future version. Use pandas.concat instead.\n",
            "  all_results = all_results.append(results, ignore_index=True)\n"
          ]
        }
      ],
      "source": [
        "import pandas as pd\n",
        "import numpy as np\n",
        "import random\n",
        "from sklearn.model_selection import train_test_split\n",
        "from sklearn.metrics import mean_squared_error, r2_score, mean_absolute_error\n",
        "from sklearn.preprocessing import StandardScaler\n",
        "from sklearn.ensemble import RandomForestRegressor\n",
        "\n",
        "# Set random seeds for reproducibility\n",
        "np.random.seed(42)\n",
        "random.seed(42)\n",
        "\n",
        "# Load your dataset\n",
        "data_cleaned = pd.read_csv('/content/thermo_normalized_LCIA_dataset.csv')\n",
        "\n",
        "# List of all LCIA impact metrics\n",
        "lcia_metrics = [\"GWP\", \"HTP\", \"MDP\", \"FETP\", \"PMFP\", \"TAP\"]\n",
        "\n",
        "# Initialize a DataFrame to store all results\n",
        "all_results = pd.DataFrame()\n",
        "\n",
        "for target_column in lcia_metrics:\n",
        "    # The remaining columns will be the features\n",
        "    feature_columns = [col for col in data_cleaned.columns if col != target_column]\n",
        "\n",
        "    # Check and handle NaN and Inf values in features and target\n",
        "    data_cleaned[feature_columns] = data_cleaned[feature_columns].replace([np.inf, -np.inf], np.nan)\n",
        "    data_cleaned[feature_columns] = data_cleaned[feature_columns].fillna(data_cleaned[feature_columns].mean())\n",
        "    data_cleaned[target_column] = data_cleaned[target_column].replace([np.inf, -np.inf], np.nan)\n",
        "    data_cleaned[target_column] = data_cleaned[target_column].fillna(data_cleaned[target_column].mean())\n",
        "\n",
        "    # Splitting the dataset into features (X) and labels (y)\n",
        "    X = data_cleaned[feature_columns]\n",
        "    y = data_cleaned[target_column]\n",
        "\n",
        "    # Standardize the features\n",
        "    scaler = StandardScaler()\n",
        "    X_scaled = scaler.fit_transform(X)\n",
        "\n",
        "    # Splitting the dataset into training, validation, and test sets\n",
        "    X_train, X_temp, y_train, y_temp = train_test_split(X_scaled, y, test_size=0.4, random_state=42)\n",
        "    X_val, X_test, y_val, y_test = train_test_split(X_temp, y_temp, test_size=0.5, random_state=42)\n",
        "\n",
        "    # Initialize Random Forest Regressor\n",
        "    model = RandomForestRegressor(\n",
        "        n_estimators=100,  # Number of trees\n",
        "        max_depth=5,       # Maximum depth of each tree\n",
        "        random_state=42\n",
        "    )\n",
        "\n",
        "    # Training the model\n",
        "    model.fit(X_train, y_train)\n",
        "\n",
        "    # Evaluation on validation and test sets\n",
        "    y_val_pred = model.predict(X_val)\n",
        "    y_test_pred = model.predict(X_test)\n",
        "\n",
        "    # Calculate metrics\n",
        "    val_mae = mean_absolute_error(y_val, y_val_pred)\n",
        "    val_mse = mean_squared_error(y_val, y_val_pred)\n",
        "    val_r2 = r2_score(y_val, y_val_pred)\n",
        "    test_mae = mean_absolute_error(y_test, y_test_pred)\n",
        "    test_mse = mean_squared_error(y_test, y_test_pred)\n",
        "    test_r2 = r2_score(y_test, y_test_pred)\n",
        "\n",
        "    # Collecting results\n",
        "    results = {\n",
        "      'Metric': target_column,\n",
        "      'Validation MAE': val_mae,\n",
        "      'Validation MSE': val_mse,\n",
        "      'Validation R2': val_r2,\n",
        "      'Test MAE': test_mae,\n",
        "      'Test MSE': test_mse,\n",
        "      'Test R2': test_r2\n",
        "    }\n",
        "    all_results = all_results.append(results, ignore_index=True)\n",
        "\n",
        "csv_file_path = '/content/all_metrics_random_forest_results.csv'\n",
        "all_results.to_csv(csv_file_path, index=False)\n",
        "\n",
        "print(f'Results for all metrics have been saved to {csv_file_path}')\n"
      ]
    }
  ]
}